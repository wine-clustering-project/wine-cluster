{
 "cells": [
  {
   "cell_type": "markdown",
   "id": "570189f2",
   "metadata": {},
   "source": [
    "# <h1><center>*Predicting Home Prices*</center></h1>"
   ]
  },
  {
   "cell_type": "markdown",
   "id": "5a765dd5",
   "metadata": {},
   "source": [
    "# Goals:\n",
    "\n",
    " - Identify what drives home values\n",
    " - Build a model to best predict home values\n",
    " ___"
   ]
  },
  {
   "cell_type": "markdown",
   "id": "68bcc496",
   "metadata": {},
   "source": [
    "# Imports"
   ]
  },
  {
   "cell_type": "code",
   "execution_count": 1,
   "id": "3a6d6d13",
   "metadata": {},
   "outputs": [],
   "source": [
    "import pandas as pd\n",
    "import numpy as np\n",
    "\n",
    "import acquire as a\n",
    "import prepare as p\n",
    "import explore as e\n",
    "import modeling as m\n",
    "\n",
    "import seaborn as sns\n",
    "import matplotlib.pyplot as plt \n",
    "\n",
    "from scipy import stats\n",
    "from scipy.stats import pearsonr\n",
    "from sklearn.preprocessing import MinMaxScaler, PolynomialFeatures\n",
    "from sklearn.feature_selection import f_regression, SelectKBest, RFE \n",
    "from sklearn.linear_model import LinearRegression, LassoLars, TweedieRegressor\n",
    "from sklearn.metrics import mean_squared_error\n",
    "from math import sqrt \n",
    "\n",
    "import warnings\n",
    "warnings.filterwarnings(\"ignore\")"
   ]
  },
  {
   "cell_type": "markdown",
   "id": "8e93f1b9",
   "metadata": {},
   "source": [
    "---------------------------------------------------------------------------------------------------------------"
   ]
  },
  {
   "cell_type": "markdown",
   "id": "be0fecc9",
   "metadata": {},
   "source": [
    "# Acquire"
   ]
  },
  {
   "cell_type": "markdown",
   "id": "cc575d79",
   "metadata": {},
   "source": [
    " - Data acquired through Sequel Ace from the Codeup database.\n",
    " - Wrote a function in my acquire.py file that includes a sql query to extract the data\n",
    " - It contained 56,079 rows and 12 columns before cleaning\n",
    " - Each row represents a home in this zillow dataset\n",
    " - Each column represents a feature of the dataset \n",
    " \n",
    " __________"
   ]
  },
  {
   "cell_type": "markdown",
   "id": "8069cc9c",
   "metadata": {},
   "source": [
    "# Prepare"
   ]
  },
  {
   "cell_type": "markdown",
   "id": "1742ae8c",
   "metadata": {},
   "source": [
    " - Removed columns that were not useful, made a column\n",
    " - Checked for nulls in the data\n",
    " - Checked that column data types were appropriate\n",
    " - Renamed columns\n",
    " - Removed Outliers\n",
    " - Encoded variables that would promote useability for my models\n",
    " - Created dummy variables for categorical variables\n",
    " - Added dummy variables to dataset\n",
    " - Split data into train, validate and test (approx. 70/15/15)\n",
    " \n",
    " \n",
    " _____"
   ]
  },
  {
   "cell_type": "markdown",
   "id": "37686814",
   "metadata": {},
   "source": [
    "# Data Dictionary"
   ]
  },
  {
   "cell_type": "markdown",
   "id": "e6785c84",
   "metadata": {},
   "source": [
    "\n",
    "| Target Variable |     Definition     |\n",
    "| :---------------: | :------------------: |\n",
    "|      home_value      | price of the house |\n",
    "\n",
    "| Feature  | Definition |\n",
    "| :-------------: | :-------------: |\n",
    "| year_built | The year the house was built  |\n",
    "| lot_sqft | The square feet of the lot  |\n",
    "| long | The longititude coordinates of the house |\n",
    "| lat | The latitude coordinates of the house |\n",
    "| transaction_month | The month of the transaction date |\n",
    "| bathrooms | Number of bathrooms in the house | \n",
    "| bedrooms | Nummber of bedrooms in the house |\n",
    "| fips | Code identifier for county |\n",
    "| sqft | Square feet of the property|\n",
    "| county | Name of the county the house is located |\n",
    "\n",
    "\n",
    "\n",
    "_____"
   ]
  },
  {
   "cell_type": "markdown",
   "id": "b2f50063",
   "metadata": {},
   "source": [
    "# A brief look at the data"
   ]
  },
  {
   "cell_type": "code",
   "execution_count": 2,
   "id": "bfe7d2a2",
   "metadata": {},
   "outputs": [],
   "source": [
    "# acquiring and cleaning the data\n",
    "df = a.get_wine_data()\n",
    "df = p.clean_wine_data(df)\n",
    "\n",
    "# splitting data into train, validate, and test\n",
    "train, validate, test = p.train_val_test(df)"
   ]
  },
  {
   "cell_type": "code",
   "execution_count": 3,
   "id": "aed1c888",
   "metadata": {},
   "outputs": [
    {
     "data": {
      "text/html": [
       "<div>\n",
       "<style scoped>\n",
       "    .dataframe tbody tr th:only-of-type {\n",
       "        vertical-align: middle;\n",
       "    }\n",
       "\n",
       "    .dataframe tbody tr th {\n",
       "        vertical-align: top;\n",
       "    }\n",
       "\n",
       "    .dataframe thead th {\n",
       "        text-align: right;\n",
       "    }\n",
       "</style>\n",
       "<table border=\"1\" class=\"dataframe\">\n",
       "  <thead>\n",
       "    <tr style=\"text-align: right;\">\n",
       "      <th></th>\n",
       "      <th>fixed_acidity</th>\n",
       "      <th>volatile_acidity</th>\n",
       "      <th>citric_acid</th>\n",
       "      <th>residual_sugar</th>\n",
       "      <th>chlorides</th>\n",
       "      <th>free_sulfur_dioxide</th>\n",
       "      <th>total_sulfur_dioxide</th>\n",
       "      <th>density</th>\n",
       "      <th>ph</th>\n",
       "      <th>sulphates</th>\n",
       "      <th>alcohol</th>\n",
       "      <th>quality</th>\n",
       "      <th>type</th>\n",
       "    </tr>\n",
       "  </thead>\n",
       "  <tbody>\n",
       "    <tr>\n",
       "      <th>2293</th>\n",
       "      <td>7.6</td>\n",
       "      <td>0.290</td>\n",
       "      <td>0.58</td>\n",
       "      <td>17.50</td>\n",
       "      <td>0.041</td>\n",
       "      <td>51.0</td>\n",
       "      <td>225.0</td>\n",
       "      <td>0.9997</td>\n",
       "      <td>3.16</td>\n",
       "      <td>0.66</td>\n",
       "      <td>9.5</td>\n",
       "      <td>6</td>\n",
       "      <td>white</td>\n",
       "    </tr>\n",
       "    <tr>\n",
       "      <th>731</th>\n",
       "      <td>8.9</td>\n",
       "      <td>0.875</td>\n",
       "      <td>0.13</td>\n",
       "      <td>3.45</td>\n",
       "      <td>0.088</td>\n",
       "      <td>4.0</td>\n",
       "      <td>14.0</td>\n",
       "      <td>0.9994</td>\n",
       "      <td>3.44</td>\n",
       "      <td>0.52</td>\n",
       "      <td>11.5</td>\n",
       "      <td>5</td>\n",
       "      <td>red</td>\n",
       "    </tr>\n",
       "    <tr>\n",
       "      <th>2958</th>\n",
       "      <td>6.5</td>\n",
       "      <td>0.190</td>\n",
       "      <td>0.32</td>\n",
       "      <td>1.40</td>\n",
       "      <td>0.040</td>\n",
       "      <td>31.0</td>\n",
       "      <td>132.0</td>\n",
       "      <td>0.9922</td>\n",
       "      <td>3.36</td>\n",
       "      <td>0.54</td>\n",
       "      <td>10.8</td>\n",
       "      <td>7</td>\n",
       "      <td>white</td>\n",
       "    </tr>\n",
       "    <tr>\n",
       "      <th>6396</th>\n",
       "      <td>5.7</td>\n",
       "      <td>0.330</td>\n",
       "      <td>0.32</td>\n",
       "      <td>1.40</td>\n",
       "      <td>0.043</td>\n",
       "      <td>28.0</td>\n",
       "      <td>93.0</td>\n",
       "      <td>0.9897</td>\n",
       "      <td>3.31</td>\n",
       "      <td>0.50</td>\n",
       "      <td>12.3</td>\n",
       "      <td>6</td>\n",
       "      <td>white</td>\n",
       "    </tr>\n",
       "    <tr>\n",
       "      <th>2652</th>\n",
       "      <td>9.4</td>\n",
       "      <td>0.290</td>\n",
       "      <td>0.55</td>\n",
       "      <td>2.20</td>\n",
       "      <td>0.050</td>\n",
       "      <td>17.0</td>\n",
       "      <td>119.0</td>\n",
       "      <td>0.9962</td>\n",
       "      <td>3.12</td>\n",
       "      <td>0.69</td>\n",
       "      <td>10.3</td>\n",
       "      <td>4</td>\n",
       "      <td>white</td>\n",
       "    </tr>\n",
       "  </tbody>\n",
       "</table>\n",
       "</div>"
      ],
      "text/plain": [
       "      fixed_acidity  volatile_acidity  citric_acid  residual_sugar  chlorides  \\\n",
       "2293            7.6             0.290         0.58           17.50      0.041   \n",
       "731             8.9             0.875         0.13            3.45      0.088   \n",
       "2958            6.5             0.190         0.32            1.40      0.040   \n",
       "6396            5.7             0.330         0.32            1.40      0.043   \n",
       "2652            9.4             0.290         0.55            2.20      0.050   \n",
       "\n",
       "      free_sulfur_dioxide  total_sulfur_dioxide  density    ph  sulphates  \\\n",
       "2293                 51.0                 225.0   0.9997  3.16       0.66   \n",
       "731                   4.0                  14.0   0.9994  3.44       0.52   \n",
       "2958                 31.0                 132.0   0.9922  3.36       0.54   \n",
       "6396                 28.0                  93.0   0.9897  3.31       0.50   \n",
       "2652                 17.0                 119.0   0.9962  3.12       0.69   \n",
       "\n",
       "      alcohol  quality   type  \n",
       "2293      9.5        6  white  \n",
       "731      11.5        5    red  \n",
       "2958     10.8        7  white  \n",
       "6396     12.3        6  white  \n",
       "2652     10.3        4  white  "
      ]
     },
     "execution_count": 3,
     "metadata": {},
     "output_type": "execute_result"
    }
   ],
   "source": [
    "#displaying all columns and getting first 5 rows\n",
    "train.head()"
   ]
  },
  {
   "cell_type": "markdown",
   "id": "fe5908d1",
   "metadata": {},
   "source": [
    "# A summary of the data"
   ]
  },
  {
   "cell_type": "code",
   "execution_count": 4,
   "id": "f1ef0888",
   "metadata": {},
   "outputs": [
    {
     "name": "stdout",
     "output_type": "stream",
     "text": [
      "<class 'pandas.core.frame.DataFrame'>\n",
      "Int64Index: 4547 entries, 2293 to 4271\n",
      "Data columns (total 13 columns):\n",
      " #   Column                Non-Null Count  Dtype  \n",
      "---  ------                --------------  -----  \n",
      " 0   fixed_acidity         4547 non-null   float64\n",
      " 1   volatile_acidity      4547 non-null   float64\n",
      " 2   citric_acid           4547 non-null   float64\n",
      " 3   residual_sugar        4547 non-null   float64\n",
      " 4   chlorides             4547 non-null   float64\n",
      " 5   free_sulfur_dioxide   4547 non-null   float64\n",
      " 6   total_sulfur_dioxide  4547 non-null   float64\n",
      " 7   density               4547 non-null   float64\n",
      " 8   ph                    4547 non-null   float64\n",
      " 9   sulphates             4547 non-null   float64\n",
      " 10  alcohol               4547 non-null   float64\n",
      " 11  quality               4547 non-null   int64  \n",
      " 12  type                  4547 non-null   object \n",
      "dtypes: float64(11), int64(1), object(1)\n",
      "memory usage: 497.3+ KB\n"
     ]
    }
   ],
   "source": [
    "# a look at our column names, data types, and null counts\n",
    "train.info()"
   ]
  },
  {
   "cell_type": "markdown",
   "id": "671b5baa",
   "metadata": {},
   "source": [
    "# Explore"
   ]
  },
  {
   "cell_type": "markdown",
   "id": "0761a5cb",
   "metadata": {},
   "source": [
    "### *1. Do red or white wines have a higher quality score?*"
   ]
  },
  {
   "cell_type": "code",
   "execution_count": 5,
   "id": "d996421a",
   "metadata": {},
   "outputs": [
    {
     "data": {
      "image/png": "[encoded data removed]",
      "text/plain": [
       "<Figure size 640x480 with 1 Axes>"
      ]
     },
     "metadata": {},
     "output_type": "display_data"
    }
   ],
   "source": [
    "# a bar plot showing us type of wine compared to quality score\n",
    "e.barplot(df, 'type', 'quality')"
   ]
  },
  {
   "cell_type": "markdown",
   "id": "7b5cfcdd",
   "metadata": {},
   "source": [
    "**Takeaways**\n",
    "\n",
    "- From the bar chart there seems to be a little difference between quality in the different types of wine, but its unclear\n",
    "\n",
    "**Ran a $chi^2$ test to evaluate if there is significance of dependency between  type and quality** <br>\n",
    "\n",
    "$H_0$: Quality is not dependent on type of wine.\n",
    "\n",
    "$H_a$: Quality is dependent on type of wine.\n",
    "\n",
    "Confidence Interval 95% <br>\n",
    "𝜶 = .05\n"
   ]
  },
  {
   "cell_type": "code",
   "execution_count": 6,
   "id": "2e83205d",
   "metadata": {},
   "outputs": [
    {
     "name": "stdout",
     "output_type": "stream",
     "text": [
      "We reject the null hypothesis.\n",
      "chi² = 116.543\n",
      "p = 8.66e-23\n"
     ]
    }
   ],
   "source": [
    "e.chi_test('type', df)"
   ]
  },
  {
   "cell_type": "markdown",
   "id": "e047fc78",
   "metadata": {},
   "source": [
    "**Takeaways**\n",
    "\n",
    "- After running a $chi^2$ test we reject the null hypothesis, meaning quality is dependent on the type of wine\n",
    "\n",
    "_____"
   ]
  },
  {
   "cell_type": "markdown",
   "id": "05158745",
   "metadata": {},
   "source": [
    "### *2. Does alcohol impact quality positively or negatively?*"
   ]
  },
  {
   "cell_type": "code",
   "execution_count": 7,
   "id": "05b9e63f",
   "metadata": {},
   "outputs": [
    {
     "data": {
      "image/png": "[encoded data removed]",
      "text/plain": [
       "<Figure size 640x480 with 1 Axes>"
      ]
     },
     "metadata": {},
     "output_type": "display_data"
    }
   ],
   "source": [
    "#a scatter plot showing us a relationship between lot sqft to home prices\n",
    "e.barplot2(df, 'quality' ,'alcohol')"
   ]
  },
  {
   "cell_type": "markdown",
   "id": "93a4281d",
   "metadata": {},
   "source": [
    "**Takeaways**\n",
    "\n",
    "- It seems like quality of the wine increases as alcohol increases as well.\n",
    "\n",
    "\n",
    "________"
   ]
  },
  {
   "cell_type": "markdown",
   "id": "d0055667",
   "metadata": {},
   "source": [
    "### *3. Does the month of the transaction affect the price of the home?*"
   ]
  },
  {
   "cell_type": "code",
   "execution_count": 8,
   "id": "8cbe6ae5",
   "metadata": {},
   "outputs": [],
   "source": [
    "# a bar plot showing us the transaction months to home prices\n",
    "#e.plot_categorical_and_continuous_vars(df, 'transaction_month', 'home_value')"
   ]
  },
  {
   "cell_type": "markdown",
   "id": "66219bb4",
   "metadata": {},
   "source": [
    "**Takeaways**\n",
    "\n",
    "- It seems like September had the highest home price value followed by June.\n",
    "\n",
    "**Ran a pearsonr test to evaluate if there is relationship between transaction month and house value** <br>\n",
    "\n",
    "$H_0$: There is no relationship between home price and the month of the transaction<br>\n",
    "$H_a$: There is a relationship between the month of the transaction of the home and the price\n",
    "\n",
    " - Confidence interval of 95%\n",
    " - Alpha is .05\n"
   ]
  },
  {
   "cell_type": "markdown",
   "id": "24ac7d67",
   "metadata": {},
   "source": [
    "**Takeaways**\n",
    "\n",
    "- We reject the null hypothesis, meaning there is a relationship between transaction date and home value. Transaction date will be moved forward for modeling\n",
    "\n",
    "_____"
   ]
  },
  {
   "cell_type": "markdown",
   "id": "01c731d3",
   "metadata": {},
   "source": [
    "### *4. Are Orange County home values higher compared to Los Angeles and Ventura County home values?*\n"
   ]
  },
  {
   "cell_type": "code",
   "execution_count": 9,
   "id": "f94c5720",
   "metadata": {},
   "outputs": [],
   "source": [
    "# a scatter plot using latitude and longitude to map out homes in their counties\n",
    "# q4"
   ]
  },
  {
   "cell_type": "markdown",
   "id": "c9cfbe8b",
   "metadata": {},
   "source": [
    "**Takeaways**\n",
    "\n",
    "- It seems like Orange County homes are more expensive than the other two counties\n",
    "\n",
    "**Ran a one sample t test to evaluate if Oragne County Homes are more expensive than Los Angeles and Ventura** <br>\n",
    "\n",
    "$H_0$: Orange County home values are <= Los Angeles and Ventura home values<br>\n",
    "$H_a$: Orange County home values are > than Los Angeles and Ventura home values\n",
    "\n",
    " - Confidence interval of 95%\n",
    " - Alpha is .05\n"
   ]
  },
  {
   "cell_type": "code",
   "execution_count": 10,
   "id": "3fd3212d",
   "metadata": {},
   "outputs": [],
   "source": [
    "# calling a function from explore.py to run a one sample t test\n",
    "#e.county_stats_test(train)"
   ]
  },
  {
   "cell_type": "markdown",
   "id": "f82fc6bd",
   "metadata": {},
   "source": [
    "**The p-value is more than the Alpha. Therefore, we have strong support that Orange County homes are greater in value compared to Los Angeles and Ventura.**\n",
    "\n",
    "----"
   ]
  },
  {
   "cell_type": "markdown",
   "id": "5755e58a",
   "metadata": {},
   "source": [
    "# Exploration Summary"
   ]
  },
  {
   "cell_type": "markdown",
   "id": "74e4e430",
   "metadata": {},
   "source": [
    "**- Bedrooms, bathrooms, lot sqft, transaction month, and county were found to be features that affect the home value**<br>\n",
    "**- All features will be added for the modeling phase<br>**\n",
    "**- County and transaction month seem to have the strongest influence.**\n",
    " \n",
    " ------"
   ]
  },
  {
   "cell_type": "markdown",
   "id": "4c540f0a",
   "metadata": {},
   "source": [
    "# Modeling "
   ]
  },
  {
   "cell_type": "markdown",
   "id": "7b403389",
   "metadata": {},
   "source": [
    "- Goal is to minimize RMSE, so this will be my evaluation metric\n",
    "- Ran 3 models including a Linear Regression , Tweedie, and a Polynomial \n",
    "- Before modeling scaled data and split\n",
    "- We evaluated the models on train and validate data \n",
    "- The best performing model then was evaluated on test data subset"
   ]
  },
  {
   "cell_type": "code",
   "execution_count": 11,
   "id": "d6f80f2c",
   "metadata": {},
   "outputs": [],
   "source": [
    "df = m.combined_df(df, 'alcohol', 'ph')"
   ]
  },
  {
   "cell_type": "code",
   "execution_count": 12,
   "id": "66591872",
   "metadata": {},
   "outputs": [],
   "source": [
    "# splitting data into train, validate, and test\n",
    "train, validate, test = p.train_val_test(df)"
   ]
  },
  {
   "cell_type": "code",
   "execution_count": 13,
   "id": "6b42d0fd",
   "metadata": {},
   "outputs": [],
   "source": [
    "# wrote a function to scale my train, validate, and test data subsets\n",
    "train_scaled, validate_scaled, test_scaled = m.mvp_scaled_data(train, validate, test)"
   ]
  },
  {
   "cell_type": "code",
   "execution_count": 14,
   "id": "ee672404",
   "metadata": {},
   "outputs": [
    {
     "data": {
      "text/html": [
       "<div>\n",
       "<style scoped>\n",
       "    .dataframe tbody tr th:only-of-type {\n",
       "        vertical-align: middle;\n",
       "    }\n",
       "\n",
       "    .dataframe tbody tr th {\n",
       "        vertical-align: top;\n",
       "    }\n",
       "\n",
       "    .dataframe thead th {\n",
       "        text-align: right;\n",
       "    }\n",
       "</style>\n",
       "<table border=\"1\" class=\"dataframe\">\n",
       "  <thead>\n",
       "    <tr style=\"text-align: right;\">\n",
       "      <th></th>\n",
       "      <th>fixed_acidity</th>\n",
       "      <th>volatile_acidity</th>\n",
       "      <th>citric_acid</th>\n",
       "      <th>residual_sugar</th>\n",
       "      <th>chlorides</th>\n",
       "      <th>free_sulfur_dioxide</th>\n",
       "      <th>total_sulfur_dioxide</th>\n",
       "      <th>density</th>\n",
       "      <th>ph</th>\n",
       "      <th>sulphates</th>\n",
       "      <th>alcohol</th>\n",
       "      <th>quality</th>\n",
       "      <th>type</th>\n",
       "      <th>scaled_clusters</th>\n",
       "    </tr>\n",
       "  </thead>\n",
       "  <tbody>\n",
       "    <tr>\n",
       "      <th>2293</th>\n",
       "      <td>0.31405</td>\n",
       "      <td>0.14</td>\n",
       "      <td>0.349398</td>\n",
       "      <td>0.259202</td>\n",
       "      <td>0.053156</td>\n",
       "      <td>0.173611</td>\n",
       "      <td>0.504608</td>\n",
       "      <td>0.242722</td>\n",
       "      <td>0.330709</td>\n",
       "      <td>0.247191</td>\n",
       "      <td>0.217391</td>\n",
       "      <td>6</td>\n",
       "      <td>white</td>\n",
       "      <td>0</td>\n",
       "    </tr>\n",
       "  </tbody>\n",
       "</table>\n",
       "</div>"
      ],
      "text/plain": [
       "      fixed_acidity  volatile_acidity  citric_acid  residual_sugar  chlorides  \\\n",
       "2293        0.31405              0.14     0.349398        0.259202   0.053156   \n",
       "\n",
       "      free_sulfur_dioxide  total_sulfur_dioxide   density        ph  \\\n",
       "2293             0.173611              0.504608  0.242722  0.330709   \n",
       "\n",
       "      sulphates   alcohol  quality   type  scaled_clusters  \n",
       "2293   0.247191  0.217391        6  white                0  "
      ]
     },
     "execution_count": 14,
     "metadata": {},
     "output_type": "execute_result"
    }
   ],
   "source": [
    "# looking at one line of data in our scaled data\n",
    "train_scaled.head(1)"
   ]
  },
  {
   "cell_type": "code",
   "execution_count": 15,
   "id": "bd2a806e",
   "metadata": {},
   "outputs": [],
   "source": [
    "# calling a function I wrote in my modeling.py to split my data in to X/y train, validate, test\n",
    "X_train, y_train, X_validate,y_validate, X_test, y_test = m.splitting_subsets(train, train_scaled, validate_scaled, test_scaled)"
   ]
  },
  {
   "cell_type": "code",
   "execution_count": 16,
   "id": "726913a8",
   "metadata": {},
   "outputs": [
    {
     "data": {
      "text/html": [
       "<div>\n",
       "<style scoped>\n",
       "    .dataframe tbody tr th:only-of-type {\n",
       "        vertical-align: middle;\n",
       "    }\n",
       "\n",
       "    .dataframe tbody tr th {\n",
       "        vertical-align: top;\n",
       "    }\n",
       "\n",
       "    .dataframe thead th {\n",
       "        text-align: right;\n",
       "    }\n",
       "</style>\n",
       "<table border=\"1\" class=\"dataframe\">\n",
       "  <thead>\n",
       "    <tr style=\"text-align: right;\">\n",
       "      <th></th>\n",
       "      <th>fixed_acidity</th>\n",
       "      <th>volatile_acidity</th>\n",
       "      <th>citric_acid</th>\n",
       "      <th>residual_sugar</th>\n",
       "      <th>chlorides</th>\n",
       "      <th>free_sulfur_dioxide</th>\n",
       "      <th>total_sulfur_dioxide</th>\n",
       "      <th>density</th>\n",
       "      <th>ph</th>\n",
       "      <th>sulphates</th>\n",
       "      <th>alcohol</th>\n",
       "      <th>type_red</th>\n",
       "      <th>type_white</th>\n",
       "      <th>scaled_clusters_0</th>\n",
       "      <th>scaled_clusters_1</th>\n",
       "      <th>scaled_clusters_2</th>\n",
       "      <th>scaled_clusters_3</th>\n",
       "    </tr>\n",
       "  </thead>\n",
       "  <tbody>\n",
       "    <tr>\n",
       "      <th>2293</th>\n",
       "      <td>0.31405</td>\n",
       "      <td>0.14</td>\n",
       "      <td>0.349398</td>\n",
       "      <td>0.259202</td>\n",
       "      <td>0.053156</td>\n",
       "      <td>0.173611</td>\n",
       "      <td>0.504608</td>\n",
       "      <td>0.242722</td>\n",
       "      <td>0.330709</td>\n",
       "      <td>0.247191</td>\n",
       "      <td>0.217391</td>\n",
       "      <td>0</td>\n",
       "      <td>1</td>\n",
       "      <td>1</td>\n",
       "      <td>0</td>\n",
       "      <td>0</td>\n",
       "      <td>0</td>\n",
       "    </tr>\n",
       "  </tbody>\n",
       "</table>\n",
       "</div>"
      ],
      "text/plain": [
       "      fixed_acidity  volatile_acidity  citric_acid  residual_sugar  chlorides  \\\n",
       "2293        0.31405              0.14     0.349398        0.259202   0.053156   \n",
       "\n",
       "      free_sulfur_dioxide  total_sulfur_dioxide   density        ph  \\\n",
       "2293             0.173611              0.504608  0.242722  0.330709   \n",
       "\n",
       "      sulphates   alcohol  type_red  type_white  scaled_clusters_0  \\\n",
       "2293   0.247191  0.217391         0           1                  1   \n",
       "\n",
       "      scaled_clusters_1  scaled_clusters_2  scaled_clusters_3  \n",
       "2293                  0                  0                  0  "
      ]
     },
     "execution_count": 16,
     "metadata": {},
     "output_type": "execute_result"
    }
   ],
   "source": [
    "# a look to 1st observation of our scaled, split, train subset\n",
    "X_train.head(1)"
   ]
  },
  {
   "cell_type": "code",
   "execution_count": 17,
   "id": "cf7a5292",
   "metadata": {},
   "outputs": [
    {
     "data": {
      "text/html": [
       "<div>\n",
       "<style scoped>\n",
       "    .dataframe tbody tr th:only-of-type {\n",
       "        vertical-align: middle;\n",
       "    }\n",
       "\n",
       "    .dataframe tbody tr th {\n",
       "        vertical-align: top;\n",
       "    }\n",
       "\n",
       "    .dataframe thead th {\n",
       "        text-align: right;\n",
       "    }\n",
       "</style>\n",
       "<table border=\"1\" class=\"dataframe\">\n",
       "  <thead>\n",
       "    <tr style=\"text-align: right;\">\n",
       "      <th></th>\n",
       "      <th>model</th>\n",
       "      <th>train_rmse</th>\n",
       "      <th>validate_rmse</th>\n",
       "      <th>difference</th>\n",
       "    </tr>\n",
       "  </thead>\n",
       "  <tbody>\n",
       "    <tr>\n",
       "      <th>0</th>\n",
       "      <td>linear_poly</td>\n",
       "      <td>0.721184</td>\n",
       "      <td>0.782887</td>\n",
       "      <td>-0.061702</td>\n",
       "    </tr>\n",
       "    <tr>\n",
       "      <th>1</th>\n",
       "      <td>linear</td>\n",
       "      <td>0.732087</td>\n",
       "      <td>0.750386</td>\n",
       "      <td>-0.018299</td>\n",
       "    </tr>\n",
       "    <tr>\n",
       "      <th>2</th>\n",
       "      <td>tweedie</td>\n",
       "      <td>0.794486</td>\n",
       "      <td>0.809016</td>\n",
       "      <td>-0.014530</td>\n",
       "    </tr>\n",
       "    <tr>\n",
       "      <th>3</th>\n",
       "      <td>baseline</td>\n",
       "      <td>0.870897</td>\n",
       "      <td>0.870897</td>\n",
       "      <td>0.000000</td>\n",
       "    </tr>\n",
       "  </tbody>\n",
       "</table>\n",
       "</div>"
      ],
      "text/plain": [
       "         model  train_rmse  validate_rmse  difference\n",
       "0  linear_poly    0.721184       0.782887   -0.061702\n",
       "1       linear    0.732087       0.750386   -0.018299\n",
       "2      tweedie    0.794486       0.809016   -0.014530\n",
       "3     baseline    0.870897       0.870897    0.000000"
      ]
     },
     "execution_count": 17,
     "metadata": {},
     "output_type": "execute_result"
    }
   ],
   "source": [
    "# called my function that in my modeling.py to demostrate my 3 best models and the baseline\n",
    "# this includes the train rmse, validate rmse, and their difference \n",
    "\n",
    "m.best_models(X_train, y_train, X_validate, y_validate)"
   ]
  },
  {
   "cell_type": "markdown",
   "id": "a0d25f16",
   "metadata": {},
   "source": [
    "### Modeling Summary & Evaluation "
   ]
  },
  {
   "cell_type": "markdown",
   "id": "c1bd2cdb",
   "metadata": {},
   "source": [
    "**The best performing model is the linear model, so we tested the model with the test data**"
   ]
  },
  {
   "cell_type": "code",
   "execution_count": 18,
   "id": "544ae716",
   "metadata": {},
   "outputs": [
    {
     "data": {
      "text/html": [
       "<div>\n",
       "<style scoped>\n",
       "    .dataframe tbody tr th:only-of-type {\n",
       "        vertical-align: middle;\n",
       "    }\n",
       "\n",
       "    .dataframe tbody tr th {\n",
       "        vertical-align: top;\n",
       "    }\n",
       "\n",
       "    .dataframe thead th {\n",
       "        text-align: right;\n",
       "    }\n",
       "</style>\n",
       "<table border=\"1\" class=\"dataframe\">\n",
       "  <thead>\n",
       "    <tr style=\"text-align: right;\">\n",
       "      <th></th>\n",
       "      <th>model</th>\n",
       "      <th>train_rmse</th>\n",
       "      <th>validate_rmse</th>\n",
       "      <th>difference</th>\n",
       "      <th>test_rmse</th>\n",
       "    </tr>\n",
       "  </thead>\n",
       "  <tbody>\n",
       "    <tr>\n",
       "      <th>1</th>\n",
       "      <td>linear</td>\n",
       "      <td>0.732087</td>\n",
       "      <td>0.750386</td>\n",
       "      <td>-0.018299</td>\n",
       "      <td>0.789499</td>\n",
       "    </tr>\n",
       "  </tbody>\n",
       "</table>\n",
       "</div>"
      ],
      "text/plain": [
       "    model train_rmse validate_rmse difference test_rmse\n",
       "1  linear   0.732087      0.750386  -0.018299  0.789499"
      ]
     },
     "execution_count": 18,
     "metadata": {},
     "output_type": "execute_result"
    }
   ],
   "source": [
    "# this is the best model and ran the test data on it\n",
    "m.best_model(X_train, y_train, X_validate, y_validate, X_test, y_test)"
   ]
  },
  {
   "cell_type": "markdown",
   "id": "9c74af7b",
   "metadata": {},
   "source": [
    "------"
   ]
  },
  {
   "cell_type": "markdown",
   "id": "333725a6",
   "metadata": {},
   "source": [
    "<div class=\"alert alert-info\">\n",
    "    <header>\n",
    "    <h2>Conclusions:</h2>    \n",
    "</header>    \n",
    "<dt>\n",
    "    \n",
    "Home value predictions were used by minimizing RMSE within our models. County and transaction month have proven to be the most valuable, but there is still room for improvement.\n",
    "<br>        \n",
    "Best Model's performance:\n",
    "\n",
    "- My best model reduced the root mean squared error by 82500 dollars compared to the baseline results.\n",
    "\n",
    "- RMSE 82493.41 dollars on in-sample (train), RMSE 84100.76 dollars on out-of-sample data (validate) and RMSE of 80897.87 dollars on the test data.</dt>\n",
    "\n",
    "<header>\n",
    "    <h2>Recommendations:</h2>        \n",
    "</header>      \n",
    "<dl>\n",
    "    \n",
    "- I would recommend using counties and transaction months to build models to predict home values. \n",
    "\n",
    "- I would also recommend collecting more data about the homes. For example, crime rates in the county, average salary within neighborhoods, and school rankings.\n",
    " \n",
    "\n",
    "<header>\n",
    "    <h2> Next Steps:</h2>       \n",
    "</header> \n",
    "</dl>\n",
    "    \n",
    "- I would add more columns/features from the database to see if there are better relationships to help predict price.\n",
    "\n",
    "- Consider adding different hyperparameters to models for better results.  \n",
    "\n",
    "</div>"
   ]
  }
 ],
 "metadata": {
  "kernelspec": {
   "display_name": "Python 3 (ipykernel)",
   "language": "python",
   "name": "python3"
  },
  "language_info": {
   "codemirror_mode": {
    "name": "ipython",
    "version": 3
   },
   "file_extension": ".py",
   "mimetype": "text/x-python",
   "name": "python",
   "nbconvert_exporter": "python",
   "pygments_lexer": "ipython3",
   "version": "3.9.13"
  }
 },
 "nbformat": 4,
 "nbformat_minor": 5
}

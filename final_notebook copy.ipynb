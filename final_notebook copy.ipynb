{
 "cells": [
  {
   "cell_type": "code",
   "execution_count": 1,
   "id": "99916c90",
   "metadata": {},
   "outputs": [],
   "source": [
    "import pandas as pd\n",
    "import numpy as np\n",
    "\n",
<<<<<<< HEAD:final_notebook.ipynb
    "import matplotlib.pyplot as plt\n",
    "import seaborn as sns\n",
    "\n",
    "from scipy import stats\n",
    "from sklearn.cluster import KMeans\n",
    "from sklearn.model_selection import train_test_split\n",
=======
    "import acquire as a\n",
    "import prepare as p\n",
    "import explore as e\n",
    "import modeling as m\n",
    "\n",
    "import seaborn as sns\n",
    "import matplotlib.pyplot as plt \n",
    "\n",
    "from scipy import stats\n",
    "from scipy.stats import pearsonr\n",
>>>>>>> 0a5239a1d622afa9ab3b302ad77f4b8b4255475c:final_notebook copy.ipynb
    "from sklearn.preprocessing import MinMaxScaler, PolynomialFeatures\n",
    "from sklearn.feature_selection import f_regression, SelectKBest, RFE \n",
    "from sklearn.linear_model import LinearRegression, LassoLars, TweedieRegressor\n",
    "from sklearn.metrics import mean_squared_error\n",
    "from math import sqrt \n",
    "\n",
<<<<<<< HEAD:final_notebook.ipynb
    "import acquire as a\n",
    "import prepare as p\n",
    "\n",
    "import warnings\n",
    "warnings.filterwarnings(\"ignore\")"
=======
    "import warnings\n",
    "warnings.filterwarnings(\"ignore\")"
   ]
  },
  {
   "cell_type": "markdown",
   "id": "8e93f1b9",
   "metadata": {},
   "source": [
    "---------------------------------------------------------------------------------------------------------------"
   ]
  },
  {
   "cell_type": "markdown",
   "id": "be0fecc9",
   "metadata": {},
   "source": [
    "# Acquire"
   ]
  },
  {
   "cell_type": "markdown",
   "id": "cc575d79",
   "metadata": {},
   "source": [
    " - Data acquired through Sequel Ace from the Codeup database.\n",
    " - Wrote a function in my acquire.py file that includes a sql query to extract the data\n",
    " - It contained 56,079 rows and 12 columns before cleaning\n",
    " - Each row represents a home in this zillow dataset\n",
    " - Each column represents a feature of the dataset \n",
    " \n",
    " __________"
   ]
  },
  {
   "cell_type": "markdown",
   "id": "8069cc9c",
   "metadata": {},
   "source": [
    "# Prepare"
   ]
  },
  {
   "cell_type": "markdown",
   "id": "1742ae8c",
   "metadata": {},
   "source": [
    " - Removed columns that were not useful, made a column\n",
    " - Checked for nulls in the data\n",
    " - Checked that column data types were appropriate\n",
    " - Renamed columns\n",
    " - Removed Outliers\n",
    " - Encoded variables that would promote useability for my models\n",
    " - Created dummy variables for categorical variables\n",
    " - Added dummy variables to dataset\n",
    " - Split data into train, validate and test (approx. 70/15/15)\n",
    " \n",
    " \n",
    " _____"
   ]
  },
  {
   "cell_type": "markdown",
   "id": "37686814",
   "metadata": {},
   "source": [
    "# Data Dictionary"
   ]
  },
  {
   "cell_type": "markdown",
   "id": "e6785c84",
   "metadata": {},
   "source": [
    "\n",
    "| Target Variable |     Definition     |\n",
    "| :---------------: | :------------------: |\n",
    "|      home_value      | price of the house |\n",
    "\n",
    "| Feature  | Definition |\n",
    "| :-------------: | :-------------: |\n",
    "| year_built | The year the house was built  |\n",
    "| lot_sqft | The square feet of the lot  |\n",
    "| long | The longititude coordinates of the house |\n",
    "| lat | The latitude coordinates of the house |\n",
    "| transaction_month | The month of the transaction date |\n",
    "| bathrooms | Number of bathrooms in the house | \n",
    "| bedrooms | Nummber of bedrooms in the house |\n",
    "| fips | Code identifier for county |\n",
    "| sqft | Square feet of the property|\n",
    "| county | Name of the county the house is located |\n",
    "\n",
    "\n",
    "\n",
    "_____"
   ]
  },
  {
   "cell_type": "markdown",
   "id": "b2f50063",
   "metadata": {},
   "source": [
    "# A brief look at the data"
>>>>>>> 0a5239a1d622afa9ab3b302ad77f4b8b4255475c:final_notebook copy.ipynb
   ]
  },
  {
   "cell_type": "code",
   "execution_count": null,
   "id": "1f19d742",
   "metadata": {},
   "outputs": [],
   "source": []
  }
 ],
 "metadata": {
  "kernelspec": {
   "display_name": "Python 3 (ipykernel)",
   "language": "python",
   "name": "python3"
  },
  "language_info": {
   "codemirror_mode": {
    "name": "ipython",
    "version": 3
   },
   "file_extension": ".py",
   "mimetype": "text/x-python",
   "name": "python",
   "nbconvert_exporter": "python",
   "pygments_lexer": "ipython3",
   "version": "3.9.13"
  }
 },
 "nbformat": 4,
 "nbformat_minor": 5
}

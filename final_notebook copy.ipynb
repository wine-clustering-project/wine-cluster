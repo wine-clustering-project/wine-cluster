{
 "cells": [
  {
   "cell_type": "markdown",
   "id": "570189f2",
   "metadata": {},
   "source": [
    "# <h1><center>*Predicting The Quality of Wine*</center></h1>"
   ]
  },
  {
   "cell_type": "markdown",
   "id": "5a765dd5",
   "metadata": {},
   "source": [
    "# Goals:\n",
    "\n",
    " - Identify what drives the quality of wine \n",
    " - Build a model to best predict home values\n",
    " ___"
   ]
  },
  {
   "cell_type": "markdown",
   "id": "68bcc496",
   "metadata": {},
   "source": [
    "# Imports"
   ]
  },
  {
   "cell_type": "code",
   "execution_count": 1,
   "id": "3a6d6d13",
   "metadata": {},
   "outputs": [
    {
     "ename": "NameError",
     "evalue": "name 'df' is not defined",
     "output_type": "error",
     "traceback": [
      "\u001b[0;31m---------------------------------------------------------------------------\u001b[0m",
      "\u001b[0;31mNameError\u001b[0m                                 Traceback (most recent call last)",
      "Input \u001b[0;32mIn [1]\u001b[0m, in \u001b[0;36m<cell line: 7>\u001b[0;34m()\u001b[0m\n\u001b[1;32m      5\u001b[0m \u001b[38;5;28;01mimport\u001b[39;00m \u001b[38;5;21;01mprepare\u001b[39;00m \u001b[38;5;28;01mas\u001b[39;00m \u001b[38;5;21;01mp\u001b[39;00m\n\u001b[1;32m      6\u001b[0m \u001b[38;5;28;01mimport\u001b[39;00m \u001b[38;5;21;01mexplore\u001b[39;00m \u001b[38;5;28;01mas\u001b[39;00m \u001b[38;5;21;01me\u001b[39;00m\n\u001b[0;32m----> 7\u001b[0m \u001b[38;5;28;01mimport\u001b[39;00m \u001b[38;5;21;01mmodeling\u001b[39;00m \u001b[38;5;28;01mas\u001b[39;00m \u001b[38;5;21;01mm\u001b[39;00m\n\u001b[1;32m      9\u001b[0m \u001b[38;5;28;01mimport\u001b[39;00m \u001b[38;5;21;01mseaborn\u001b[39;00m \u001b[38;5;28;01mas\u001b[39;00m \u001b[38;5;21;01msns\u001b[39;00m\n\u001b[1;32m     10\u001b[0m \u001b[38;5;28;01mimport\u001b[39;00m \u001b[38;5;21;01mmatplotlib\u001b[39;00m\u001b[38;5;21;01m.\u001b[39;00m\u001b[38;5;21;01mpyplot\u001b[39;00m \u001b[38;5;28;01mas\u001b[39;00m \u001b[38;5;21;01mplt\u001b[39;00m \n",
      "File \u001b[0;32m~/codeup-data-science/wine-cluster/modeling.py:31\u001b[0m, in \u001b[0;36m<module>\u001b[0;34m\u001b[0m\n\u001b[1;32m     26\u001b[0m     df \u001b[38;5;241m=\u001b[39m pd\u001b[38;5;241m.\u001b[39mmerge(df, scaled_clusters, left_index\u001b[38;5;241m=\u001b[39m\u001b[38;5;28;01mTrue\u001b[39;00m, right_index\u001b[38;5;241m=\u001b[39m\u001b[38;5;28;01mTrue\u001b[39;00m)\n\u001b[1;32m     28\u001b[0m     \u001b[38;5;28;01mreturn\u001b[39;00m df\n\u001b[0;32m---> 31\u001b[0m columns_scale \u001b[38;5;241m=\u001b[39m \u001b[43mdf\u001b[49m\u001b[38;5;241m.\u001b[39miloc[:, :\u001b[38;5;241m11\u001b[39m]\n\u001b[1;32m     32\u001b[0m columns_to_scale \u001b[38;5;241m=\u001b[39m columns_scale\u001b[38;5;241m.\u001b[39mcolumns\n\u001b[1;32m     34\u001b[0m \u001b[38;5;28;01mdef\u001b[39;00m \u001b[38;5;21mmvp_scaled_data\u001b[39m(train, \n\u001b[1;32m     35\u001b[0m                validate, \n\u001b[1;32m     36\u001b[0m                test, \n\u001b[1;32m     37\u001b[0m                columns_to_scale \u001b[38;5;241m=\u001b[39m columns_to_scale,\n\u001b[1;32m     38\u001b[0m                return_scaler\u001b[38;5;241m=\u001b[39m\u001b[38;5;28;01mFalse\u001b[39;00m):\n",
      "\u001b[0;31mNameError\u001b[0m: name 'df' is not defined"
     ]
    }
   ],
   "source": [
    "import pandas as pd\n",
    "import numpy as np\n",
    "\n",
    "import acquire as a\n",
    "import prepare as p\n",
    "import explore as e\n",
    "import modeling as m\n",
    "\n",
    "import seaborn as sns\n",
    "import matplotlib.pyplot as plt \n",
    "\n",
    "from scipy import stats\n",
    "from scipy.stats import pearsonr\n",
    "from sklearn.preprocessing import MinMaxScaler, PolynomialFeatures\n",
    "from sklearn.feature_selection import f_regression, SelectKBest, RFE \n",
    "from sklearn.linear_model import LinearRegression, LassoLars, TweedieRegressor\n",
    "from sklearn.metrics import mean_squared_error\n",
    "from math import sqrt \n",
    "\n",
    "import warnings\n",
    "warnings.filterwarnings(\"ignore\")"
   ]
  },
  {
   "cell_type": "markdown",
   "id": "8e93f1b9",
   "metadata": {},
   "source": [
    "---------------------------------------------------------------------------------------------------------------"
   ]
  },
  {
   "cell_type": "markdown",
   "id": "be0fecc9",
   "metadata": {},
   "source": [
    "# Acquire"
   ]
  },
  {
   "cell_type": "markdown",
   "id": "cc575d79",
   "metadata": {},
   "source": [
    " - Our data was acquired from Data.world\n",
    " - CSV files were then saved into our project file\n",
    " - Each column represents a component of the wine\n",
    " - Combined dataset has 6497 rows, and 13 columns\n",
    " - Created function to acquire the data\n",
    " ---"
   ]
  },
  {
   "cell_type": "markdown",
   "id": "8069cc9c",
   "metadata": {},
   "source": [
    "# Prepare"
   ]
  },
  {
   "cell_type": "markdown",
   "id": "1742ae8c",
   "metadata": {},
   "source": [
    "- Combine both Red and White wine CSVs together\n",
    "- Remove unnecessary white space(if any)\n",
    "- Checked and removed nulls(if any)\n",
    "- Split original dateset into 3 different sets: Train, Validate, Test\n",
    " \n",
    " \n",
    " \n",
    " _____"
   ]
  },
  {
   "cell_type": "markdown",
   "id": "37686814",
   "metadata": {},
   "source": [
    "# Data Dictionary"
   ]
  },
  {
   "cell_type": "markdown",
   "id": "84f5bbee",
   "metadata": {},
   "source": [
    "| Target Variable |     Definition     |\n",
    "| --------------- | ------------------ |\n",
    "|      Quality      | Score of wine, scale between 0 - 10  |\n",
    "\n",
    "| Feature  | Definition |\n",
    "| ------------- | ------------- |\n",
    "| Fixed acidity | Measures the level of acidity that doesn't change with storage or wine aging |\n",
    "| Volatile acidity | Measures the amount of acetic acid in wine, responsible for vinegar-like smell  |\n",
    "| Citric acid | Measures the amount of citric acid in wine, provides fresh and sour taste |\n",
    "| Residual sugar | Measures the amount of residual sugar in wine, affects the wine's sweetness |\n",
    "| Chlorides | Measures the amount of chloride ions in wine, contributes to wine's saltiness |\n",
    "| Free sulfur dioxide | Measures the amount of free SO2 in wine, acts as a preservative | \n",
    "| Total sulfur dioxide | Measures the combined amount of free and bound SO2 in wine |\n",
    "| Density | Measures the weight per unit volume of wine, affects wine's body and mouthfeel |\n",
    "| pH | Measures the acidity level of wine, affects wine's taste and stability |\n",
    "| Sulphates | Measures the amount of sulfur dioxide in wine, contributes to wine's preservation and taste |\n",
    "| Alcohol | Measures the percentage of alcohol by volume in wine, affects wine's strength and flavor |\n"
   ]
  },
  {
   "cell_type": "markdown",
   "id": "b2f50063",
   "metadata": {},
   "source": [
    "# A brief look at the data"
   ]
  },
  {
   "cell_type": "code",
   "execution_count": null,
   "id": "bfe7d2a2",
   "metadata": {},
   "outputs": [],
   "source": []
  },
  {
   "cell_type": "code",
   "execution_count": null,
   "id": "aed1c888",
   "metadata": {},
   "outputs": [],
   "source": []
  },
  {
   "cell_type": "markdown",
   "id": "fe5908d1",
   "metadata": {},
   "source": [
    "# A summary of the data"
   ]
  },
  {
   "cell_type": "code",
   "execution_count": null,
   "id": "f1ef0888",
   "metadata": {},
   "outputs": [],
   "source": []
  },
  {
   "cell_type": "markdown",
   "id": "671b5baa",
   "metadata": {},
   "source": [
    "# Explore"
   ]
  },
  {
   "cell_type": "markdown",
   "id": "0761a5cb",
   "metadata": {},
   "source": [
    "### *1. Will more bedrooms and bathrooms drive house value up?*"
   ]
  },
  {
   "cell_type": "code",
   "execution_count": 5,
   "id": "d996421a",
   "metadata": {},
   "outputs": [
    {
     "data": {
      "image/png": "[encoded data removed]",
      "text/plain": [
       "<Figure size 640x480 with 1 Axes>"
      ]
     },
     "metadata": {},
     "output_type": "display_data"
    }
   ],
   "source": [
    "# a bar plot showing us bathrooms compared to their respective home prices\n",
    "# q1"
   ]
  },
  {
   "cell_type": "markdown",
   "id": "7b5cfcdd",
   "metadata": {},
   "source": [
    "**Takeaways**\n",
    "\n",
    "- As bedrooms and bathrooms increase in a home, it seems like the price of the home increase\n",
    "\n",
    "____"
   ]
  },
  {
   "cell_type": "markdown",
   "id": "05158745",
   "metadata": {},
   "source": [
    "### *2. Does lot size sqft increase home value?*"
   ]
  },
  {
   "cell_type": "code",
   "execution_count": null,
   "id": "05b9e63f",
   "metadata": {},
   "outputs": [],
   "source": []
  },
  {
   "cell_type": "markdown",
   "id": "93a4281d",
   "metadata": {},
   "source": [
    "**Takeaways**\n",
    "\n",
    "- It seems like as lot sqft goes up so does the price, but the correlation does not seem to be strong\n",
    "\n",
    "\n",
    "--------"
   ]
  },
  {
   "cell_type": "markdown",
   "id": "d0055667",
   "metadata": {},
   "source": [
    "### *3. Does the month of the transaction affect the price of the home?*"
   ]
  },
  {
   "cell_type": "code",
   "execution_count": 25,
   "id": "8cbe6ae5",
   "metadata": {},
   "outputs": [
    {
     "data": {
      "image/png": "[encoded data removed]",
      "text/plain": [
       "<Figure size 640x480 with 1 Axes>"
      ]
     },
     "metadata": {},
     "output_type": "display_data"
    }
   ],
   "source": [
    "# a bar plot showing us the transaction months to home prices\n",
    "e.plot_categorical_and_continuous_vars(df, 'transaction_month', 'home_value')"
   ]
  },
  {
   "cell_type": "markdown",
   "id": "66219bb4",
   "metadata": {},
   "source": [
    "**Takeaways**\n",
    "\n",
    "- It seems like September had the highest home price value followed by June.\n",
    "\n",
    "**Ran a pearsonr test to evaluate if there is relationship between transaction month and house value** <br>\n",
    "\n",
    "$H_0$: There is no relationship between home price and the month of the transaction<br>\n",
    "$H_a$: There is a relationship between the month of the transaction of the home and the price\n",
    "\n",
    " - Confidence interval of 95%\n",
    " - Alpha is .05\n"
   ]
  },
  {
   "cell_type": "markdown",
   "id": "24ac7d67",
   "metadata": {},
   "source": [
    "**Takeaways**\n",
    "\n",
    "- We reject the null hypothesis, meaning there is a relationship between transaction date and home value. Transaction date will be moved forward for modeling\n",
    "\n",
    "_____"
   ]
  },
  {
   "cell_type": "markdown",
   "id": "2e0592b6",
   "metadata": {},
   "source": [
    "### *Does PH significantly affect each wine differently?*\n",
    "$H_o$: PH does not significanlty affect each wine differntly \n",
    "\n",
    "$H_a$: PH does significanlty affect each wine differntly "
   ]
  },
  {
   "cell_type": "code",
   "execution_count": null,
   "id": "8317a46b",
   "metadata": {},
   "outputs": [],
   "source": [
    "e.ph_quality()"
   ]
  },
  {
   "cell_type": "markdown",
   "id": "c9cfbe8b",
   "metadata": {},
   "source": [
    "**Takeaways**\n",
    "\n",
    "- Based on the graph, we can infer that pH does not have a great affect on the each Type of wine and its Quality."
   ]
  },
  {
   "cell_type": "markdown",
   "id": "5755e58a",
   "metadata": {},
   "source": [
    "# Exploration Summary"
   ]
  },
  {
   "cell_type": "markdown",
   "id": "74e4e430",
   "metadata": {},
   "source": [
    "**- Bedrooms, bathrooms, lot sqft, transaction month, and county were found to be features that affect the home value**<br>\n",
    "**- All features will be added for the modeling phase<br>**\n",
    "**- County and transaction month seem to have the strongest influence.**\n",
    " \n",
    " ------"
   ]
  },
  {
   "cell_type": "markdown",
   "id": "4c540f0a",
   "metadata": {},
   "source": [
    "# Modeling "
   ]
  },
  {
   "cell_type": "markdown",
   "id": "7b403389",
   "metadata": {},
   "source": [
    "- Goal is to minimize RMSE, so this will be my evaluation metric\n",
    "- Ran 3 models including a Linear Regression , LassoLars, and a Polynomial \n",
    "- Before modeling scaled data and split\n",
    "- I evaluated the models on train and validate data \n",
    "- The best performing model then was evaluated on test data subset"
   ]
  },
  {
   "cell_type": "code",
   "execution_count": 12,
   "id": "6b42d0fd",
   "metadata": {},
   "outputs": [],
   "source": [
    "# wrote a function to scale my train, validate, and test data subsets\n",
    "train_scaled, validate_scaled, test_scaled = m.mvp_scaled_data(train, validate, test)"
   ]
  },
  {
   "cell_type": "code",
   "execution_count": 13,
   "id": "ee672404",
   "metadata": {},
   "outputs": [
    {
     "data": {
      "text/html": [
       "<div>\n",
       "<style scoped>\n",
       "    .dataframe tbody tr th:only-of-type {\n",
       "        vertical-align: middle;\n",
       "    }\n",
       "\n",
       "    .dataframe tbody tr th {\n",
       "        vertical-align: top;\n",
       "    }\n",
       "\n",
       "    .dataframe thead th {\n",
       "        text-align: right;\n",
       "    }\n",
       "</style>\n",
       "<table border=\"1\" class=\"dataframe\">\n",
       "  <thead>\n",
       "    <tr style=\"text-align: right;\">\n",
       "      <th></th>\n",
       "      <th>year_built</th>\n",
       "      <th>lot_sqft</th>\n",
       "      <th>logerror</th>\n",
       "      <th>long</th>\n",
       "      <th>lat</th>\n",
       "      <th>transaction_month</th>\n",
       "      <th>bathrooms</th>\n",
       "      <th>bedrooms</th>\n",
       "      <th>fips</th>\n",
       "      <th>sqft</th>\n",
       "      <th>home_value</th>\n",
       "      <th>county</th>\n",
       "    </tr>\n",
       "  </thead>\n",
       "  <tbody>\n",
       "    <tr>\n",
       "      <th>6939</th>\n",
       "      <td>1970.0</td>\n",
       "      <td>0.107251</td>\n",
       "      <td>0.464608</td>\n",
       "      <td>0.742431</td>\n",
       "      <td>0.320542</td>\n",
       "      <td>2</td>\n",
       "      <td>2.5</td>\n",
       "      <td>3.0</td>\n",
       "      <td>6059.0</td>\n",
       "      <td>0.234005</td>\n",
       "      <td>447926.0</td>\n",
       "      <td>orange</td>\n",
       "    </tr>\n",
       "  </tbody>\n",
       "</table>\n",
       "</div>"
      ],
      "text/plain": [
       "      year_built  lot_sqft  logerror      long       lat  transaction_month  \\\n",
       "6939      1970.0  0.107251  0.464608  0.742431  0.320542                  2   \n",
       "\n",
       "      bathrooms  bedrooms    fips      sqft  home_value  county  \n",
       "6939        2.5       3.0  6059.0  0.234005    447926.0  orange  "
      ]
     },
     "execution_count": 13,
     "metadata": {},
     "output_type": "execute_result"
    }
   ],
   "source": [
    "# looking at one line of data in our scaled data\n",
    "train_scaled.head(1)"
   ]
  },
  {
   "cell_type": "code",
   "execution_count": 14,
   "id": "bd2a806e",
   "metadata": {},
   "outputs": [],
   "source": [
    "# calling a function I wrote in my modeling.py to split my data in to X/y train, validate, test\n",
    "X_train, y_train, X_validate,y_validate, X_test, y_test = m.splitting_subsets(train, train_scaled, validate_scaled, test_scaled)"
   ]
  },
  {
   "cell_type": "code",
   "execution_count": 15,
   "id": "726913a8",
   "metadata": {},
   "outputs": [
    {
     "data": {
      "text/html": [
       "<div>\n",
       "<style scoped>\n",
       "    .dataframe tbody tr th:only-of-type {\n",
       "        vertical-align: middle;\n",
       "    }\n",
       "\n",
       "    .dataframe tbody tr th {\n",
       "        vertical-align: top;\n",
       "    }\n",
       "\n",
       "    .dataframe thead th {\n",
       "        text-align: right;\n",
       "    }\n",
       "</style>\n",
       "<table border=\"1\" class=\"dataframe\">\n",
       "  <thead>\n",
       "    <tr style=\"text-align: right;\">\n",
       "      <th></th>\n",
       "      <th>lot_sqft</th>\n",
       "      <th>logerror</th>\n",
       "      <th>long</th>\n",
       "      <th>lat</th>\n",
       "      <th>sqft</th>\n",
       "      <th>transaction_month_1</th>\n",
       "      <th>transaction_month_2</th>\n",
       "      <th>transaction_month_3</th>\n",
       "      <th>transaction_month_4</th>\n",
       "      <th>transaction_month_5</th>\n",
       "      <th>...</th>\n",
       "      <th>bathrooms_6.0</th>\n",
       "      <th>bedrooms_1.0</th>\n",
       "      <th>bedrooms_2.0</th>\n",
       "      <th>bedrooms_3.0</th>\n",
       "      <th>bedrooms_4.0</th>\n",
       "      <th>bedrooms_5.0</th>\n",
       "      <th>bedrooms_6.0</th>\n",
       "      <th>county_los angeles</th>\n",
       "      <th>county_orange</th>\n",
       "      <th>county_ventura</th>\n",
       "    </tr>\n",
       "  </thead>\n",
       "  <tbody>\n",
       "    <tr>\n",
       "      <th>6939</th>\n",
       "      <td>0.107251</td>\n",
       "      <td>0.464608</td>\n",
       "      <td>0.742431</td>\n",
       "      <td>0.320542</td>\n",
       "      <td>0.234005</td>\n",
       "      <td>0</td>\n",
       "      <td>1</td>\n",
       "      <td>0</td>\n",
       "      <td>0</td>\n",
       "      <td>0</td>\n",
       "      <td>...</td>\n",
       "      <td>0</td>\n",
       "      <td>0</td>\n",
       "      <td>0</td>\n",
       "      <td>1</td>\n",
       "      <td>0</td>\n",
       "      <td>0</td>\n",
       "      <td>0</td>\n",
       "      <td>0</td>\n",
       "      <td>1</td>\n",
       "      <td>0</td>\n",
       "    </tr>\n",
       "  </tbody>\n",
       "</table>\n",
       "<p>1 rows × 34 columns</p>\n",
       "</div>"
      ],
      "text/plain": [
       "      lot_sqft  logerror      long       lat      sqft  transaction_month_1  \\\n",
       "6939  0.107251  0.464608  0.742431  0.320542  0.234005                    0   \n",
       "\n",
       "      transaction_month_2  transaction_month_3  transaction_month_4  \\\n",
       "6939                    1                    0                    0   \n",
       "\n",
       "      transaction_month_5  ...  bathrooms_6.0  bedrooms_1.0  bedrooms_2.0  \\\n",
       "6939                    0  ...              0             0             0   \n",
       "\n",
       "      bedrooms_3.0  bedrooms_4.0  bedrooms_5.0  bedrooms_6.0  \\\n",
       "6939             1             0             0             0   \n",
       "\n",
       "      county_los angeles  county_orange  county_ventura  \n",
       "6939                   0              1               0  \n",
       "\n",
       "[1 rows x 34 columns]"
      ]
     },
     "execution_count": 15,
     "metadata": {},
     "output_type": "execute_result"
    }
   ],
   "source": [
    "# a look to 1st observation of our scaled, split, train subset\n",
    "X_train.head(1)"
   ]
  },
  {
   "cell_type": "code",
   "execution_count": 16,
   "id": "cf7a5292",
   "metadata": {},
   "outputs": [
    {
     "data": {
      "text/html": [
       "<div>\n",
       "<style scoped>\n",
       "    .dataframe tbody tr th:only-of-type {\n",
       "        vertical-align: middle;\n",
       "    }\n",
       "\n",
       "    .dataframe tbody tr th {\n",
       "        vertical-align: top;\n",
       "    }\n",
       "\n",
       "    .dataframe thead th {\n",
       "        text-align: right;\n",
       "    }\n",
       "</style>\n",
       "<table border=\"1\" class=\"dataframe\">\n",
       "  <thead>\n",
       "    <tr style=\"text-align: right;\">\n",
       "      <th></th>\n",
       "      <th>model</th>\n",
       "      <th>train_rmse</th>\n",
       "      <th>validate_rmse</th>\n",
       "      <th>difference</th>\n",
       "    </tr>\n",
       "  </thead>\n",
       "  <tbody>\n",
       "    <tr>\n",
       "      <th>0</th>\n",
       "      <td>linear_poly</td>\n",
       "      <td>217232.769547</td>\n",
       "      <td>216916.999520</td>\n",
       "      <td>315.770027</td>\n",
       "    </tr>\n",
       "    <tr>\n",
       "      <th>1</th>\n",
       "      <td>lasso</td>\n",
       "      <td>235229.309282</td>\n",
       "      <td>234879.860188</td>\n",
       "      <td>349.449094</td>\n",
       "    </tr>\n",
       "    <tr>\n",
       "      <th>2</th>\n",
       "      <td>linear</td>\n",
       "      <td>235254.807610</td>\n",
       "      <td>234900.102819</td>\n",
       "      <td>354.704791</td>\n",
       "    </tr>\n",
       "    <tr>\n",
       "      <th>3</th>\n",
       "      <td>baseline</td>\n",
       "      <td>298539.592323</td>\n",
       "      <td>298539.592323</td>\n",
       "      <td>0.000000</td>\n",
       "    </tr>\n",
       "  </tbody>\n",
       "</table>\n",
       "</div>"
      ],
      "text/plain": [
       "         model     train_rmse  validate_rmse  difference\n",
       "0  linear_poly  217232.769547  216916.999520  315.770027\n",
       "1        lasso  235229.309282  234879.860188  349.449094\n",
       "2       linear  235254.807610  234900.102819  354.704791\n",
       "3     baseline  298539.592323  298539.592323    0.000000"
      ]
     },
     "execution_count": 16,
     "metadata": {},
     "output_type": "execute_result"
    }
   ],
   "source": [
    "# called my function that in my modeling.py to demostrate my 3 best models and the baseline\n",
    "# this includes the train rmse, validate rmse, and their difference \n",
    "\n",
    "m.best_models(X_train, y_train, X_validate, y_validate)"
   ]
  },
  {
   "cell_type": "markdown",
   "id": "a0d25f16",
   "metadata": {},
   "source": [
    "### Modeling Summary & Evaluation "
   ]
  },
  {
   "cell_type": "markdown",
   "id": "c1bd2cdb",
   "metadata": {},
   "source": [
    "**The best performing model is the linear polynomial, so we tested the model with the test data**"
   ]
  },
  {
   "cell_type": "code",
   "execution_count": 17,
   "id": "544ae716",
   "metadata": {},
   "outputs": [
    {
     "data": {
      "text/html": [
       "<div>\n",
       "<style scoped>\n",
       "    .dataframe tbody tr th:only-of-type {\n",
       "        vertical-align: middle;\n",
       "    }\n",
       "\n",
       "    .dataframe tbody tr th {\n",
       "        vertical-align: top;\n",
       "    }\n",
       "\n",
       "    .dataframe thead th {\n",
       "        text-align: right;\n",
       "    }\n",
       "</style>\n",
       "<table border=\"1\" class=\"dataframe\">\n",
       "  <thead>\n",
       "    <tr style=\"text-align: right;\">\n",
       "      <th></th>\n",
       "      <th>model</th>\n",
       "      <th>train_rmse</th>\n",
       "      <th>validate_rmse</th>\n",
       "      <th>test_rmse</th>\n",
       "    </tr>\n",
       "  </thead>\n",
       "  <tbody>\n",
       "    <tr>\n",
       "      <th>0</th>\n",
       "      <td>linear_poly</td>\n",
       "      <td>217232.769547</td>\n",
       "      <td>216916.99952</td>\n",
       "      <td>217548.081236</td>\n",
       "    </tr>\n",
       "  </tbody>\n",
       "</table>\n",
       "</div>"
      ],
      "text/plain": [
       "         model     train_rmse  validate_rmse      test_rmse\n",
       "0  linear_poly  217232.769547   216916.99952  217548.081236"
      ]
     },
     "execution_count": 17,
     "metadata": {},
     "output_type": "execute_result"
    }
   ],
   "source": [
    "# this is the best model and ran the test data on it\n",
    "m.best_model(X_train, y_train, X_validate, y_validate, X_test, y_test)"
   ]
  },
  {
   "cell_type": "markdown",
   "id": "9c74af7b",
   "metadata": {},
   "source": [
    "------"
   ]
  },
  {
   "cell_type": "markdown",
   "id": "333725a6",
   "metadata": {},
   "source": [
    "<div class=\"alert alert-info\">\n",
    "    <header>\n",
    "    <h2>Conclusions:</h2>    \n",
    "</header>    \n",
    "<dt>\n",
    "    \n",
    "Home value predictions were used by minimizing RMSE within our models. County and transaction month have proven to be the most valuable, but there is still room for improvement.\n",
    "<br>        \n",
    "Best Model's performance:\n",
    "\n",
    "- My best model reduced the root mean squared error by 82500 dollars compared to the baseline results.\n",
    "\n",
    "- RMSE 82493.41 dollars on in-sample (train), RMSE 84100.76 dollars on out-of-sample data (validate) and RMSE of 80897.87 dollars on the test data.</dt>\n",
    "\n",
    "<header>\n",
    "    <h2>Recommendations:</h2>        \n",
    "</header>      \n",
    "<dl>\n",
    "    \n",
    "- I would recommend using counties and transaction months to build models to predict home values. \n",
    "\n",
    "- I would also recommend collecting more data about the homes. For example, crime rates in the county, average salary within neighborhoods, and school rankings.\n",
    " \n",
    "\n",
    "<header>\n",
    "    <h2> Next Steps:</h2>       \n",
    "</header> \n",
    "</dl>\n",
    "    \n",
    "- I would add more columns/features from the database to see if there are better relationships to help predict price.\n",
    "\n",
    "- Consider adding different hyperparameters to models for better results.  \n",
    "\n",
    "</div>"
   ]
  }
 ],
 "metadata": {
  "kernelspec": {
   "display_name": "Python 3 (ipykernel)",
   "language": "python",
   "name": "python3"
  },
  "language_info": {
   "codemirror_mode": {
    "name": "ipython",
    "version": 3
   },
   "file_extension": ".py",
   "mimetype": "text/x-python",
   "name": "python",
   "nbconvert_exporter": "python",
   "pygments_lexer": "ipython3",
   "version": "3.9.13"
  }
 },
 "nbformat": 4,
 "nbformat_minor": 5
}

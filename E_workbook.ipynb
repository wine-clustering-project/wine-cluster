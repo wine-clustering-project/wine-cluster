{
 "cells": [
  {
   "cell_type": "code",
   "execution_count": 1,
   "id": "2b073cb5",
   "metadata": {},
   "outputs": [],
   "source": [
    "import pandas as pd"
   ]
  },
  {
   "cell_type": "code",
   "execution_count": 2,
   "id": "7fef4cf5",
   "metadata": {},
   "outputs": [],
   "source": [
    "white = pd.read_csv('white_wine.csv')\n",
    "red = pd.read_csv('red_wine.csv')"
   ]
  },
  {
   "cell_type": "code",
   "execution_count": 3,
   "id": "09b926c8",
   "metadata": {},
   "outputs": [],
   "source": [
    "white.rename(columns={white.columns[0]: 'w_acidity', white.columns[1]: 'w_vacidity',\n",
    "                      white.columns[2]: 'w_citric', white.columns[3]: 'w_sugar',\n",
    "                      white.columns[4]: 'w_chlorides', white.columns[5]: 'w_free_sulfur',\n",
    "                      white.columns[6]: 'w_total_sulfer', white.columns[7]:'w_density',\n",
    "                      white.columns[8]: 'w_pf', white.columns[9]: 'w_sulphates',\n",
    "                      white.columns[11]: 'w_quality'},inplace=True)"
   ]
  },
  {
   "cell_type": "code",
   "execution_count": 4,
   "id": "e10a0264",
   "metadata": {},
   "outputs": [
    {
     "data": {
      "text/html": [
       "<div>\n",
       "<style scoped>\n",
       "    .dataframe tbody tr th:only-of-type {\n",
       "        vertical-align: middle;\n",
       "    }\n",
       "\n",
       "    .dataframe tbody tr th {\n",
       "        vertical-align: top;\n",
       "    }\n",
       "\n",
       "    .dataframe thead th {\n",
       "        text-align: right;\n",
       "    }\n",
       "</style>\n",
       "<table border=\"1\" class=\"dataframe\">\n",
       "  <thead>\n",
       "    <tr style=\"text-align: right;\">\n",
       "      <th></th>\n",
       "      <th>w_acidity</th>\n",
       "      <th>w_vacidity</th>\n",
       "      <th>w_citric</th>\n",
       "      <th>w_sugar</th>\n",
       "      <th>w_chlorides</th>\n",
       "      <th>w_free_sulfur</th>\n",
       "      <th>w_total_sulfer</th>\n",
       "      <th>w_density</th>\n",
       "      <th>w_pf</th>\n",
       "      <th>w_sulphates</th>\n",
       "      <th>alcohol</th>\n",
       "      <th>w_quality</th>\n",
       "    </tr>\n",
       "  </thead>\n",
       "  <tbody>\n",
       "    <tr>\n",
       "      <th>0</th>\n",
       "      <td>7.0</td>\n",
       "      <td>0.27</td>\n",
       "      <td>0.36</td>\n",
       "      <td>20.7</td>\n",
       "      <td>0.045</td>\n",
       "      <td>45.0</td>\n",
       "      <td>170.0</td>\n",
       "      <td>1.001</td>\n",
       "      <td>3.0</td>\n",
       "      <td>0.45</td>\n",
       "      <td>8.8</td>\n",
       "      <td>6</td>\n",
       "    </tr>\n",
       "  </tbody>\n",
       "</table>\n",
       "</div>"
      ],
      "text/plain": [
       "   w_acidity  w_vacidity  w_citric  w_sugar  w_chlorides  w_free_sulfur  \\\n",
       "0        7.0        0.27      0.36     20.7        0.045           45.0   \n",
       "\n",
       "   w_total_sulfer  w_density  w_pf  w_sulphates  alcohol  w_quality  \n",
       "0           170.0      1.001   3.0         0.45      8.8          6  "
      ]
     },
     "execution_count": 4,
     "metadata": {},
     "output_type": "execute_result"
    }
   ],
   "source": [
    "white.head(1)"
   ]
  },
  {
   "cell_type": "code",
   "execution_count": 5,
   "id": "37cca38e",
   "metadata": {},
   "outputs": [],
   "source": [
    "# using merge function by setting how='inner'\n",
    "df = pd.merge(white, red, \n",
    "                   on='alcohol', \n",
    "                   how='inner')\n",
    "  "
   ]
  },
  {
   "cell_type": "code",
   "execution_count": null,
   "id": "8d8f5c6f",
   "metadata": {},
   "outputs": [],
   "source": []
  }
 ],
 "metadata": {
  "kernelspec": {
   "display_name": "Python 3 (ipykernel)",
   "language": "python",
   "name": "python3"
  },
  "language_info": {
   "codemirror_mode": {
    "name": "ipython",
    "version": 3
   },
   "file_extension": ".py",
   "mimetype": "text/x-python",
   "name": "python",
   "nbconvert_exporter": "python",
   "pygments_lexer": "ipython3",
   "version": "3.9.13"
  }
 },
 "nbformat": 4,
 "nbformat_minor": 5
}

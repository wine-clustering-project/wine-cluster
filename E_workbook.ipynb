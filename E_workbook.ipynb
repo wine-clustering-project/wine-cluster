{
 "cells": [
  {
   "cell_type": "code",
   "execution_count": 1,
   "id": "df541af7",
   "metadata": {},
   "outputs": [],
   "source": [
    "import pandas as pd"
   ]
  },
  {
   "cell_type": "code",
   "execution_count": 2,
   "id": "1b4a7969",
   "metadata": {},
   "outputs": [],
   "source": [
    "white = pd.read_csv('white_wine.csv')\n",
    "red = pd.read_csv('red_wine.csv')"
   ]
  },
  {
   "cell_type": "code",
   "execution_count": null,
   "id": "d823c685",
   "metadata": {},
   "outputs": [],
   "source": []
  }
 ],
 "metadata": {
  "kernelspec": {
   "display_name": "Python 3 (ipykernel)",
   "language": "python",
   "name": "python3"
  },
  "language_info": {
   "codemirror_mode": {
    "name": "ipython",
    "version": 3
   },
   "file_extension": ".py",
   "mimetype": "text/x-python",
   "name": "python",
   "nbconvert_exporter": "python",
   "pygments_lexer": "ipython3",
   "version": "3.9.13"
  }
 },
 "nbformat": 4,
 "nbformat_minor": 5
}
